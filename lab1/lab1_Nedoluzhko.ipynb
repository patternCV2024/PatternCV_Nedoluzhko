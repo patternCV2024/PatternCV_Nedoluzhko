{
 "cells": [
  {
   "attachments": {},
   "cell_type": "markdown",
   "id": "538a8c0a",
   "metadata": {},
   "source": [
    "<h1 align=\"center\">Лабораторна робота 1. Побудова простого лінійного бінарного класифікатора\n",
    "</h1>"
   ]
  },
  {
   "cell_type": "markdown",
   "id": "bbc4e657",
   "metadata": {},
   "source": [
    "<a href=\"https://github.com/TTelmewk1n\">Недолужко Станіслав </a>, 2024"
   ]
  },
  {
   "cell_type": "markdown",
   "id": "0939d964",
   "metadata": {},
   "source": [
    "<h2> Завдання для самостійної роботи </h2>"
   ]
  },
  {
   "cell_type": "markdown",
   "id": "eb40840d-eceb-4f15-a2a3-fa628b7c68e4",
   "metadata": {},
   "source": [
    "<ol>\n",
    "    <li>Імпортувати дані для навчальної вибірки згідно з індивідуальним варіантом (імпорт організувати з файлу).</li>\n",
    "    <li>Побудувати бінарний класифікатор і вивести результати бінарної класифікації на графіку. </li>\n",
    "    <li> Дати відповіді на контрольні запитання. </li>\n",
    "   <li>  Відправити результати роботи у файлі lab_1_StudentLastName.ipynb до віддаленого репозиторію на GіtHub. </li></olol>"
   ]
  },
  {
   "cell_type": "markdown",
   "id": "dd04ffa0-58b3-431a-aaee-115fdfb3e2bd",
   "metadata": {},
   "source": [
    "<h1> Виконання завдання:</h1>"
   ]
  },
  {
   "cell_type": "code",
   "execution_count": 1,
   "id": "32100da5-5ffe-46ad-a503-a09b0ccfc775",
   "metadata": {},
   "outputs": [
    {
     "name": "stdout",
     "output_type": "stream",
     "text": [
      "Accuracy: 0.6\n"
     ]
    },
    {
     "data": {
      "image/png": "[encoded data removed]",
      "text/plain": [
       "<Figure size 800x600 with 1 Axes>"
      ]
     },
     "metadata": {},
     "output_type": "display_data"
    }
   ],
   "source": [
    "import numpy as np\n",
    "import matplotlib.pyplot as plt\n",
    "from sklearn.svm import SVC\n",
    "from sklearn.metrics import accuracy_score\n",
    "\n",
    "# Вхідні дані\n",
    "x_train_14 = np.array([[17, 8],\n",
    "                      [33, 36],\n",
    "                      [47, 22],\n",
    "                      [36, 11],\n",
    "                      [43, 29],\n",
    "                      [33, 46],\n",
    "                      [47, 34],\n",
    "                      [34, 16],\n",
    "                      [44, 28],\n",
    "                      [44, 41]])\n",
    "y_train_14 = np.array([-1, 1, -1, -1, 1, 1, -1, -1, 1, -1])  # -1 для синіх, 1 для червоних\n",
    "\n",
    "# Побудова моделі\n",
    "model = SVC(kernel='linear')\n",
    "model.fit(x_train_14, y_train_14)\n",
    "\n",
    "# Класифікація\n",
    "y_pred = model.predict(x_train_14)\n",
    "accuracy = accuracy_score(y_train_14, y_pred)\n",
    "print(\"Accuracy:\", accuracy)\n",
    "\n",
    "# Відображення даних та розділної границі\n",
    "plt.figure(figsize=(8, 6))\n",
    "\n",
    "# Сині точки\n",
    "plt.scatter(x_train_14[y_train_14 == -1][:, 0], x_train_14[y_train_14 == -1][:, 1], color='blue', label='-1')\n",
    "# Червоні точки\n",
    "plt.scatter(x_train_14[y_train_14 == 1][:, 0], x_train_14[y_train_14 == 1][:, 1], color='red', label='1')\n",
    "\n",
    "# Створення сітки для візуалізації розділної границі\n",
    "ax = plt.gca()\n",
    "xlim = ax.get_xlim()\n",
    "ylim = ax.get_ylim()\n",
    "\n",
    "# Створення сітки для прогнозування розділної границі\n",
    "xx, yy = np.meshgrid(np.linspace(xlim[0], xlim[1], 50),\n",
    "                     np.linspace(ylim[0], ylim[1], 50))\n",
    "Z = model.decision_function(np.c_[xx.ravel(), yy.ravel()])\n",
    "Z = Z.reshape(xx.shape)\n",
    "\n",
    "# Візуалізація розділної границі та меж класів\n",
    "plt.contour(xx, yy, Z, colors='k', levels=[0], alpha=0.5, linestyles=['-'])\n",
    "plt.title('Binary Classification with SVM')\n",
    "plt.xlabel('Feature 1')\n",
    "plt.ylabel('Feature 2')\n",
    "plt.legend()\n",
    "\n",
    "plt.show()\n"
   ]
  },
  {
   "cell_type": "markdown",
   "id": "b81143b8",
   "metadata": {},
   "source": [
    "<h1 align=\"center\">Контрольні запитання</h1>"
   ]
  },
  {
   "cell_type": "markdown",
   "id": "bdeb7384",
   "metadata": {},
   "source": [
    "\r\n",
    "<ol>\r\n",
    "    <li>Основні принципи розпізнавання образів у контексті машинного навчання включають:\r\n",
    "        <ul>\r\n",
    "            <li>Використання навчальних даних для тренування моделі.</li>\r\n",
    "            <li>Використання алгоритмів класифікації та регресії для встановлення зв'язків між вхідними даними та вихідними мітками.</li>\r\n",
    "        </ul>\r\n",
    "    </li>\r\n",
    "    <li>Навчальна вибірка - це набір даних, які використовуються для тренування моделі. Вона важлива для процесу розпізнавання образів, оскільки визначає, яким чином модель буде вчитися розпізнавати образи на основі вхідних даних та їх відповідних міток.</li>\r\n",
    "    <li>Постановка задачі бінарної класифікації полягає в тому, щоб розділити набір даних на два класи або категорії.</li>\r\n",
    "    <li>Рівняння гіперплощини - це лінійна розділяюча поверхня, яка використовується для розділення об'єктів у просторі на два класи. Це використовується для розв'язання задачі бінарної класифікації шляхом встановлення границі між класами.</li>\r\n",
    "    <li>Кроки для розв'язання простої задачі бінарної класифікації за допомогою машинного навчання включають:\r\n",
    "        <ol>\r\n",
    "            <li>Збір та підготовка навчальних даних.</li>\r\n",
    "            <li>Вибір моделі класифікації (наприклад, логістична регресія, метод опорних векторів тощо).</li>\r\n",
    "            <li>Тренування моделі на навчальній вибірці.</li>\r\n",
    "            <li>Оцінка та налаштування моделі за допомогою валідаційної вибірки.</li>\r\n",
    "            <li>Тестування моделі на тестовій вибірці для оцінки її ефективності.</li>\r\n",
    "        </уміння структури даних.i>"
   ]
  },
  {
   "cell_type": "code",
   "execution_count": null,
   "id": "ce794be3-ddae-480f-82c4-1713d328fad7",
   "metadata": {},
   "outputs": [],
   "source": []
  }
 ],
 "metadata": {
  "kernelspec": {
   "display_name": "Python 3 (ipykernel)",
   "language": "python",
   "name": "python3"
  },
  "language_info": {
   "codemirror_mode": {
    "name": "ipython",
    "version": 3
   },
   "file_extension": ".py",
   "mimetype": "text/x-python",
   "name": "python",
   "nbconvert_exporter": "python",
   "pygments_lexer": "ipython3",
   "version": "3.11.7"
  }
 },
 "nbformat": 4,
 "nbformat_minor": 5
}
