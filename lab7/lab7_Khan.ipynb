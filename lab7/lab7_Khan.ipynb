{
 "cells": [
  {
   "cell_type": "markdown",
   "id": "bbc4e657",
   "metadata": {
    "id": "bbc4e657"
   },
   "source": [
    "<a href=\"https://github.com/TTelmewk1n\">Недолужко Станіслав</a>, 2024"
   ]
  },
  {
   "cell_type": "markdown",
   "id": "538a8c0a",
   "metadata": {
    "id": "538a8c0a"
   },
   "source": [
    "#### <h1 align=\"center\">Лабораторна робота №7. Методи кластеризації (навчання без учителя)\n",
    "</h1>"
   ]
  },
  {
   "cell_type": "markdown",
   "id": "0939d964",
   "metadata": {
    "id": "0939d964"
   },
   "source": [
    "<h2> Завдання для самостійної роботи </h2>"
   ]
  },
  {
   "cell_type": "markdown",
   "id": "eb40840d-eceb-4f15-a2a3-fa628b7c68e4",
   "metadata": {
    "id": "eb40840d-eceb-4f15-a2a3-fa628b7c68e4"
   },
   "source": [
    "<ol>\n",
    "   <b> <li>1.Реалізувати всі алгоритми кластеризації, наведені в роботі, для свого варіанта, обгрунтувавши знаення відповідних параметрів.</li>\n",
    "\n",
    "</ol>\n",
    "<h2>Алгоритм K-середніх</h2>"
   ]
  },
  {
   "cell_type": "code",
   "execution_count": 1,
   "id": "b0812f73-9c24-464b-83c4-e86f7d5f7e1d",
   "metadata": {
    "colab": {
     "base_uri": "https://localhost:8080/",
     "height": 430
    },
    "id": "b0812f73-9c24-464b-83c4-e86f7d5f7e1d",
    "outputId": "465ae070-0dd1-4f58-de61-7ace7f234eab"
   },
   "outputs": [
    {
     "data": {
      "image/png": "[encoded data removed]",
      "text/plain": [
       "<Figure size 640x480 with 1 Axes>"
      ]
     },
     "metadata": {},
     "output_type": "display_data"
    }
   ],
   "source": [
    "import numpy as np\n",
    "import matplotlib.pyplot as plt\n",
    "\n",
    "# Ваші дані\n",
    "x_train_14 = np.array([[21, 46],\n",
    "                      [6, 33],\n",
    "                      [19, 22],\n",
    "                      [30, 49],\n",
    "                      [46, 36],\n",
    "                      [35, 26],\n",
    "                      [43, 11],\n",
    "                      [6, 5],\n",
    "                      [19, 20],\n",
    "                      [42, 41]])\n",
    "\n",
    "y_train_14 = np.array([-1, -1, -1, 1, -1, -1, 1, 1, -1, 1])\n",
    "\n",
    "# Адаптація даних до формату вихідного алгоритму\n",
    "x = x_train_14\n",
    "\n",
    "# Обчислення середніх та дисперсій\n",
    "M = np.mean(x, axis=0)\n",
    "D = np.var(x, axis=0)\n",
    "\n",
    "# Визначення кількості кластерів\n",
    "K = len(np.unique(y_train_14))\n",
    "\n",
    "# Генерація початкових центрів кластерів\n",
    "ma = [np.random.normal(M, np.sqrt(D / 10), 2) for n in range(K)]\n",
    "\n",
    "# Функція для обчислення евклідової метрики\n",
    "ro = lambda x_vect, m_vect: np.mean((x_vect - m_vect) ** 2)\n",
    "\n",
    "# Колірування кластерів\n",
    "COLORS = ('green', 'blue', 'brown', 'black')\n",
    "\n",
    "# Ініціалізація графіка\n",
    "plt.ion()\n",
    "\n",
    "n = 0\n",
    "while n < 10:\n",
    "    X = [[] for i in range(K)]\n",
    "\n",
    "    for x_vect, y_label in zip(x, y_train_14):\n",
    "        r = [ro(x_vect, m) for m in ma]\n",
    "        X[np.argmin(r)].append(x_vect)\n",
    "\n",
    "    ma = [np.mean(xx, axis=0) for xx in X]\n",
    "\n",
    "    plt.clf()\n",
    "\n",
    "    # Відображення кластерів\n",
    "    for i in range(K):\n",
    "        xx = np.array(X[i]).T\n",
    "        plt.scatter(xx[0], xx[1], s=10, color=COLORS[i])\n",
    "\n",
    "    # Відображення центрів кластерів\n",
    "    mx = [m[0] for m in ma]\n",
    "    my = [m[1] for m in ma]\n",
    "    plt.scatter(mx, my, s=50, color='red')\n",
    "\n",
    "    plt.draw()\n",
    "    plt.gcf().canvas.flush_events()\n",
    "\n",
    "    n += 1\n",
    "\n",
    "plt.ioff()\n",
    "plt.show()\n"
   ]
  },
  {
   "cell_type": "markdown",
   "id": "46888a6e-7f65-4630-850c-8f942c384836",
   "metadata": {
    "id": "46888a6e-7f65-4630-850c-8f942c384836"
   },
   "source": [
    "<h2>Алгоритм DBSCAN</h2>"
   ]
  },
  {
   "cell_type": "code",
   "execution_count": 2,
   "id": "3e68148f-81a8-466e-8555-3b88aa54c878",
   "metadata": {
    "colab": {
     "base_uri": "https://localhost:8080/",
     "height": 430
    },
    "id": "3e68148f-81a8-466e-8555-3b88aa54c878",
    "outputId": "ea89b989-fa6d-4abf-b2ee-c77ad6534cfe"
   },
   "outputs": [
    {
     "data": {
      "image/png": "[encoded data removed]",
      "text/plain": [
       "<Figure size 640x480 with 1 Axes>"
      ]
     },
     "metadata": {},
     "output_type": "display_data"
    }
   ],
   "source": [
    "from sklearn.cluster import DBSCAN\n",
    "import numpy as np\n",
    "import matplotlib.pyplot as plt\n",
    "\n",
    "# Дані\n",
    "x_train_14 = np.array([[21, 46], [6, 33], [19, 22], [30, 49], [46, 36], [35, 26], [43, 11], [6, 5], [19, 20], [42, 41]])\n",
    "y_train_14 = np.array([-1, -1, -1, 1, -1, -1, 1, 1, -1, 1])\n",
    "\n",
    "# Розмір епсилон-околу\n",
    "eps = 10\n",
    "# Мінімальна кількість об'єктів для повного епсилон-околу\n",
    "m = 2\n",
    "\n",
    "# Використання алгоритму DBSCAN\n",
    "dbscan = DBSCAN(eps=eps, min_samples=m)\n",
    "dbscan.fit(x_train_14)\n",
    "labels = dbscan.labels_\n",
    "\n",
    "# Вивід кластерів\n",
    "unique_labels = np.unique(labels)\n",
    "for label in unique_labels:\n",
    "    if label == -1:\n",
    "        plt.scatter(x_train_14[labels == label][:, 0], x_train_14[labels == label][:, 1], color='k', label='Кластер 0')\n",
    "    else:\n",
    "        plt.scatter(x_train_14[labels == label][:, 0], x_train_14[labels == label][:, 1], label='Кластер 1')\n",
    "\n",
    "plt.legend()\n",
    "plt.show()\n"
   ]
  },
  {
   "cell_type": "markdown",
   "id": "0aefb2bf-b8ca-4e4f-8fa6-ceadb6f8625f",
   "metadata": {
    "id": "0aefb2bf-b8ca-4e4f-8fa6-ceadb6f8625f"
   },
   "source": [
    "<h2>Алгоритм K-середніх</h2>"
   ]
  },
  {
   "cell_type": "code",
   "execution_count": 3,
   "id": "aa2d7d66-0c95-4687-aceb-abcc5a63dff0",
   "metadata": {
    "colab": {
     "base_uri": "https://localhost:8080/",
     "height": 486
    },
    "id": "aa2d7d66-0c95-4687-aceb-abcc5a63dff0",
    "outputId": "95b2d7eb-fcf5-4fa8-c4af-1a5a01aba85f"
   },
   "outputs": [
    {
     "name": "stderr",
     "output_type": "stream",
     "text": [
      "C:\\Users\\admin\\anaconda3\\Lib\\site-packages\\sklearn\\cluster\\_kmeans.py:870: FutureWarning: The default value of `n_init` will change from 10 to 'auto' in 1.4. Set the value of `n_init` explicitly to suppress the warning\n",
      "  warnings.warn(\n",
      "C:\\Users\\admin\\anaconda3\\Lib\\site-packages\\sklearn\\cluster\\_kmeans.py:1382: UserWarning: KMeans is known to have a memory leak on Windows with MKL, when there are less chunks than available threads. You can avoid it by setting the environment variable OMP_NUM_THREADS=1.\n",
      "  warnings.warn(\n"
     ]
    },
    {
     "data": {
      "image/png": "[encoded data removed]",
      "text/plain": [
       "<Figure size 640x480 with 1 Axes>"
      ]
     },
     "metadata": {},
     "output_type": "display_data"
    }
   ],
   "source": [
    "from itertools import cycle\n",
    "import numpy as np\n",
    "import matplotlib.pyplot as plt\n",
    "from sklearn.cluster import KMeans\n",
    "\n",
    "# вхідні зображення для кластеризації\n",
    "x_train_6 = np.array([[49, 21], [5, 5], [37, 32], [21, 25], [34, 28], [44, 35], [39, 41], [17, 45], [31, 24]])\n",
    "\n",
    "NC = 2  # максимальна кількість кластерів (кінцевих)\n",
    "\n",
    "# використання алгоритму KMeans\n",
    "kmeans = KMeans(n_clusters=NC)\n",
    "kmeans.fit(x_train_6)\n",
    "x_pr = kmeans.predict(x_train_6)\n",
    "\n",
    "# відображення результату кластеризації\n",
    "for c, n in zip(cycle('bgrcmykgrcmykgrcmykgrcmykgrcmykgrcmyk'), range(NC)):\n",
    "    clst = x_train_6[x_pr == n].T\n",
    "    plt.scatter(clst[0], clst[1], s=10, color=c)\n",
    "\n",
    "plt.show()\n"
   ]
  },
  {
   "cell_type": "markdown",
   "id": "b81143b8",
   "metadata": {
    "id": "b81143b8"
   },
   "source": [
    "<h1 align=\"center\">Контрольні запитання</h1>"
   ]
  },
  {
   "cell_type": "markdown",
   "id": "bdeb7384",
   "metadata": {
    "id": "bdeb7384"
   },
   "source": [
    "1. **Задача кластеризації та її цілі:**\n",
    "   \n",
    "   **Кластеризація** полягає в групуванні схожих об'єктів у колекції. Основна **мета** - забезпечити, щоб об'єкти всередині кожного кластера були якомога більш схожими між собою, в той час як об'єкти між різними кластерами були якомога менш схожими. Основні **цілі** кластеризації включають в себе виявлення природних груп об'єктів у даних, розуміння структури даних та спрощення подальшого аналізу даних.\n",
    "\n",
    "2. **Критерії оцінки якості кластеризації:**\n",
    "   \n",
    "   Для оцінки якості кластеризації можуть використовуватися **метрики** внутрішнього та зовнішнього зв'язку. Деякі **популярні метрики** включають індекс силуету, додаткову дисперсію, кількість кластерів, довжину периметра та інші.\n",
    "\n",
    "3. **Задача часткового навчання, алгоритм k-середніх та DBSCAN:**\n",
    "   \n",
    "   - **Задача часткового навчання** в контексті кластеризації виникає, коли доступні лише деякі мітки класів для обмеженого підмножини даних. У цьому випадку мета полягає в тому, щоб використати ці обмежені мітки класів для покращення якості розбиття.\n",
    "   \n",
    "   - **Алгоритм k-середніх (k-means)** полягає в групуванні об'єктів у k кластерів, мінімізуючи середній квадрат відстаней між кожним об'єктом і центром його кластера.\n",
    "   \n",
    "   - **Алгоритм DBSCAN (Density-Based Spatial Clustering of Applications with Noise)** групує об'єкти у кластери на основі їх густини в просторі ознак. Він виявляє області високої густини, що відповідають кластерам, і розділяє області низької густини або окремі точки як шум.\n",
    "\n",
    "4. **Реалізація алгоритму DBSCAN за допомогою scikit-learn:**\n",
    "   \n",
    "   Можна використати модуль `sklearn.cluster.DBSCAN` для реалізації алгоритму DBSCAN в Python засобами бібліотеки scikit-learn. Це дає можливість використовувати різні параметри, такі як радіус епсилон і мінімальна кількість сусідів, для налаштування алгоритму залежно від конкретних потреб."
   ]
  },
  {
   "cell_type": "code",
   "execution_count": null,
   "id": "3a64e8a2-b41a-40f8-89f1-46ce46aa7bc3",
   "metadata": {
    "id": "3a64e8a2-b41a-40f8-89f1-46ce46aa7bc3"
   },
   "outputs": [],
   "source": []
  }
 ],
 "metadata": {
  "colab": {
   "provenance": []
  },
  "kernelspec": {
   "display_name": "Python 3 (ipykernel)",
   "language": "python",
   "name": "python3"
  },
  "language_info": {
   "codemirror_mode": {
    "name": "ipython",
    "version": 3
   },
   "file_extension": ".py",
   "mimetype": "text/x-python",
   "name": "python",
   "nbconvert_exporter": "python",
   "pygments_lexer": "ipython3",
   "version": "3.11.7"
  }
 },
 "nbformat": 4,
 "nbformat_minor": 5
}
