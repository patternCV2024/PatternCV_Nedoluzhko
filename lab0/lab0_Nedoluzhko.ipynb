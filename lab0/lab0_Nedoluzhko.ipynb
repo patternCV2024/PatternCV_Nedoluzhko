{
 "cells": [
  {
   "cell_type": "markdown",
   "id": "bbc4e657",
   "metadata": {},
   "source": [
    "<a href=\"https://github.com/TTelmewk1n\">Недолужко Станіслав </a>, 2024"
   ]
  },
  {
   "attachments": {},
   "cell_type": "markdown",
   "id": "538a8c0a",
   "metadata": {},
   "source": [
    "<h1 align=\"center\">Лабораторна робота №0. Основи роботи з Git. Налаштування Git-GitHub середовища\n",
    "</h1>"
   ]
  },
  {
   "cell_type": "markdown",
   "id": "0939d964",
   "metadata": {},
   "source": [
    "<h2> Завдання для самостійної роботи </h2>"
   ]
  },
  {
   "cell_type": "markdown",
   "id": "eb40840d-eceb-4f15-a2a3-fa628b7c68e4",
   "metadata": {},
   "source": [
    "<ol>\n",
    "    <li>Створив на GitHub репозиторій patternCV_Nedoluzhko з дисципліни \"Розпізнавання образів та комп’ютерний зірнь\" студента групи КІ-20-1 Недолужко Станіслав\".</li>\n",
    "    <li>Клонував репозиторій на свою локальну машину.<br> <img src=\"image/1.PNG\" </li>\n",
    "    <li> Закомітив файл у локальний репозиторій.<br> <img src=\"image/2.PNG\" /></li>\n",
    "</ol>"
   ]
  },
  {
   "cell_type": "markdown",
   "id": "b81143b8",
   "metadata": {},
   "source": [
    "<h1 align=\"center\">Контрольні запитання</h1>"
   ]
  },
  {
   "cell_type": "markdown",
   "id": "bdeb7384",
   "metadata": {},
   "source": [
    "<ol>\n",
    "    <li>Система контролю версій  - це програмне забезпечення, яке дозволяє зберігати та керувати версіями файлів та документів. Вона призначена для відстеження змін у файлах, збереження різних версій даних, співпраці над проектами та керування конфліктами при злитті змін. <br> Принципова відмінність між СКВ SVN та Git полягає у їхній архітектурі та підходах до зберігання данння даних.</li>\n",
    "    <li>git add . використовується для додавання всіх змінених чи нових файлів у робочій директорії</li>\n",
    "    <li>При виконанні команди \"git commit\" відбувається створення нового коміту в репозиторії Git зі змінами, які  попередньо додали до індексу за допомогою \"git add\"</li>\n",
    "     <li> \"git clone\"</li>\n",
    "</ol>"
   ]
  },
  {
   "cell_type": "code",
   "execution_count": null,
   "id": "00b5844b-d73f-4f99-b6db-1b8393d84cb2",
   "metadata": {},
   "outputs": [],
   "source": []
  }
 ],
 "metadata": {
  "kernelspec": {
   "display_name": "Python 3 (ipykernel)",
   "language": "python",
   "name": "python3"
  },
  "language_info": {
   "codemirror_mode": {
    "name": "ipython",
    "version": 3
   },
   "file_extension": ".py",
   "mimetype": "text/x-python",
   "name": "python",
   "nbconvert_exporter": "python",
   "pygments_lexer": "ipython3",
   "version": "3.11.7"
  }
 },
 "nbformat": 4,
 "nbformat_minor": 5
}
